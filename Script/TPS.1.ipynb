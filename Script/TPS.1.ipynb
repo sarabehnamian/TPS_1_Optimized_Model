{
  "cells": [
    {
      "cell_type": "markdown",
      "metadata": {},
      "source": [
        "## Solution Steps: \n",
        "\n",
        "1. Data access\n",
        "2. Data exploration (initial data analysis)  \n",
        "   2.1. Exploration of features and target distribution  \n",
        "3. Data Preparation  \n",
        "   3.1. Clean the data  \n",
        "   3.2. Filter important features  \n",
        "   3.3. Check for missing values     \n",
        "   3.4. Feature engineering (feature creation, feature selection)  \n",
        "4. Train the model\n",
        "5. Use the model (Prediction)\n",
        "6. Evaluate the model (accuracy)"
      ]
    },
    {
      "cell_type": "markdown",
      "metadata": {
        "id": "AccqhzGZTJND"
      },
      "source": [
        "## **Import Libraries**"
      ]
    },
    {
      "cell_type": "code",
      "execution_count": 26,
      "metadata": {
        "id": "mGn9F5FyOshY"
      },
      "outputs": [],
      "source": [
        "import pandas as pd\n",
        "import numpy as np\n",
        "import seaborn as sns\n",
        "import matplotlib.pyplot as plt\n",
        "from scipy import stats\n",
        "from scipy.stats import zscore,norm\n",
        "from sklearn.model_selection import train_test_split\n",
        "from IPython.display import display\n",
        "from sklearn import metrics\n",
        "from sklearn.ensemble import RandomForestRegressor\n",
        "from sklearn.model_selection import KFold\n",
        "import random\n",
        "from sklearn.metrics import median_absolute_error\n",
        "from sklearn.model_selection import KFold\n",
        "from sklearn.ensemble import RandomForestRegressor\n",
        "from sklearn.utils import shuffle\n",
        "import pickle\n",
        "import warnings\n",
        "warnings.filterwarnings('ignore')"
      ]
    },
    {
      "cell_type": "markdown",
      "metadata": {
        "id": "BAUwKmgzQfrv"
      },
      "source": [
        "## **Data Access** ##"
      ]
    },
    {
      "cell_type": "code",
      "execution_count": 27,
      "metadata": {},
      "outputs": [
        {
          "data": {
            "text/html": [
              "<div>\n",
              "<style scoped>\n",
              "    .dataframe tbody tr th:only-of-type {\n",
              "        vertical-align: middle;\n",
              "    }\n",
              "\n",
              "    .dataframe tbody tr th {\n",
              "        vertical-align: top;\n",
              "    }\n",
              "\n",
              "    .dataframe thead th {\n",
              "        text-align: right;\n",
              "    }\n",
              "</style>\n",
              "<table border=\"1\" class=\"dataframe\">\n",
              "  <thead>\n",
              "    <tr style=\"text-align: right;\">\n",
              "      <th></th>\n",
              "      <th>span (-+) (arch + 14C date)</th>\n",
              "    </tr>\n",
              "  </thead>\n",
              "  <tbody>\n",
              "    <tr>\n",
              "      <th>count</th>\n",
              "      <td>29.000000</td>\n",
              "    </tr>\n",
              "    <tr>\n",
              "      <th>mean</th>\n",
              "      <td>87.258621</td>\n",
              "    </tr>\n",
              "    <tr>\n",
              "      <th>std</th>\n",
              "      <td>34.096141</td>\n",
              "    </tr>\n",
              "    <tr>\n",
              "      <th>min</th>\n",
              "      <td>30.000000</td>\n",
              "    </tr>\n",
              "    <tr>\n",
              "      <th>25%</th>\n",
              "      <td>54.000000</td>\n",
              "    </tr>\n",
              "    <tr>\n",
              "      <th>50%</th>\n",
              "      <td>95.000000</td>\n",
              "    </tr>\n",
              "    <tr>\n",
              "      <th>75%</th>\n",
              "      <td>125.000000</td>\n",
              "    </tr>\n",
              "    <tr>\n",
              "      <th>max</th>\n",
              "      <td>125.000000</td>\n",
              "    </tr>\n",
              "  </tbody>\n",
              "</table>\n",
              "</div>"
            ],
            "text/plain": [
              "       span (-+) (arch + 14C date)\n",
              "count                    29.000000\n",
              "mean                     87.258621\n",
              "std                      34.096141\n",
              "min                      30.000000\n",
              "25%                      54.000000\n",
              "50%                      95.000000\n",
              "75%                     125.000000\n",
              "max                     125.000000"
            ]
          },
          "execution_count": 27,
          "metadata": {},
          "output_type": "execute_result"
        }
      ],
      "source": [
        "# Load dataset\n",
        "dataset =  pd.ExcelFile(\"Eurasian - Dataset_tims.xlsx\")\n",
        "Eurasian = pd.read_excel(dataset, 'Eurasian')\n",
        "\n",
        "# Extract relevant columns\n",
        "Ancients = Eurasian[['AncientComponent1', 'AncientComponent2','AncientComponent3', \n",
        "                     'AncientComponent4', 'AncientComponent5', 'ModernComponent1',\n",
        "                     'ModernComponent2', 'ModernComponent3', \n",
        "                     'Date mean in BP in years before 1950 CE [OxCal mu for a direct radiocarbon date, and average of range for a contextual date]',\n",
        "                     'Method for Determining Date; unless otherwise specified, calibrations use 95.4% intervals from OxCal v4.4.2 Bronk Ramsey (2009); r:5; Atmospheric data from Reimer et al (2020)',\n",
        "                     'Sample ID', 'Country',\n",
        "                     'Date standard deviation in BP [OxCal sigma for a direct radiocarbon date, and standard deviation of the uniform disribution between the two bounds for a contextual date]']]\n",
        "\n",
        "# Rename columns for clarity\n",
        "Ancients.rename(columns={\n",
        "    'Method for Determining Date; unless otherwise specified, calibrations use 95.4% intervals from OxCal v4.4.2 Bronk Ramsey (2009); r:5; Atmospheric data from Reimer et al (2020)': 'Dating',\n",
        "    'Date standard deviation in BP [OxCal sigma for a direct radiocarbon date, and standard deviation of the uniform disribution between the two bounds for a contextual date]': 'STD',\n",
        "    'Date mean in BP in years before 1950 CE [OxCal mu for a direct radiocarbon date, and average of range for a contextual date]': 'Mean date (BP)'\n",
        "}, inplace=True)\n",
        "\n",
        "# Load and process modern samples\n",
        "modern = pd.read_csv('Eurasian_modern_samples.csv')\n",
        "modern = modern[['AncientComponent1', 'AncientComponent2','AncientComponent3',\n",
        "                 'AncientComponent4', 'AncientComponent5', 'ModernComponent1',\n",
        "                 'ModernComponent2', 'ModernComponent3', 'DateBP', 'Sample ID']]\n",
        "modern.rename(columns={'DateBP': 'Mean date (BP)'}, inplace=True)\n",
        "\n",
        "# Load and process modern samples' annotation\n",
        "modern_annotation = pd.read_excel(\"20130606_sample_info.xlsx\")\n",
        "modern_annotation.rename(columns={'Sample': 'Sample ID', 'Population': 'Country'}, inplace=True)\n",
        "Moderns = pd.merge(modern_annotation, modern, on=[\"Sample ID\"])\n",
        "Moderns['Dating'] = np.nan\n",
        "Moderns = Moderns[['AncientComponent1', 'AncientComponent2','AncientComponent3', \n",
        "                   'AncientComponent4', 'AncientComponent5', 'ModernComponent1',\n",
        "                   'ModernComponent2', 'ModernComponent3', 'Mean date (BP)', \n",
        "                   'Dating', 'Sample ID', 'Country']]\n",
        "\n",
        "# Load test cases\n",
        "test_cases = pd.ExcelFile(\"Test Cases.xlsx\")\n",
        "Brandysek_inds = pd.read_excel(test_cases, 'Brandysek inds')\n",
        "Brandysek_inds = Brandysek_inds.iloc[0:14,:]\n",
        "Brandysek_inds.rename(columns={'Version ID':'Sample ID'}, inplace=True)\n",
        "\n",
        "# Update modern samples\n",
        "Moderns['STD'] = 0\n",
        "\n",
        "# Load and process viking dataset\n",
        "viking_df = pd.read_csv('Viking Dates.txt', sep=\"\\t\")\n",
        "viking_df.rename(columns={'mean ( arch date+ 14C )': 'Mean date (BP)'}, inplace=True)\n",
        "\n",
        "# Load Reich dataset\n",
        "Reich = pd.read_excel('Reich_new_first.xlsx')\n",
        "\n",
        "# Check for matching samples between Reich and Viking datasets\n",
        "bool_series = Reich['Master ID'].isin(viking_df['Sample'])\n",
        "\n",
        "# Extract matching samples\n",
        "matching_samples = Reich[bool_series]\n",
        "\n",
        "# Describe span data from viking dataset\n",
        "viking_df[['span (-+) (arch + 14C date)']].describe()"
      ]
    },
    {
      "cell_type": "code",
      "execution_count": 28,
      "metadata": {},
      "outputs": [
        {
          "data": {
            "text/html": [
              "<div>\n",
              "<style scoped>\n",
              "    .dataframe tbody tr th:only-of-type {\n",
              "        vertical-align: middle;\n",
              "    }\n",
              "\n",
              "    .dataframe tbody tr th {\n",
              "        vertical-align: top;\n",
              "    }\n",
              "\n",
              "    .dataframe thead th {\n",
              "        text-align: right;\n",
              "    }\n",
              "</style>\n",
              "<table border=\"1\" class=\"dataframe\">\n",
              "  <thead>\n",
              "    <tr style=\"text-align: right;\">\n",
              "      <th></th>\n",
              "      <th>Date_STD_BP</th>\n",
              "    </tr>\n",
              "  </thead>\n",
              "  <tbody>\n",
              "    <tr>\n",
              "      <th>count</th>\n",
              "      <td>29.000000</td>\n",
              "    </tr>\n",
              "    <tr>\n",
              "      <th>mean</th>\n",
              "      <td>71.000000</td>\n",
              "    </tr>\n",
              "    <tr>\n",
              "      <th>std</th>\n",
              "      <td>17.784423</td>\n",
              "    </tr>\n",
              "    <tr>\n",
              "      <th>min</th>\n",
              "      <td>29.000000</td>\n",
              "    </tr>\n",
              "    <tr>\n",
              "      <th>25%</th>\n",
              "      <td>67.000000</td>\n",
              "    </tr>\n",
              "    <tr>\n",
              "      <th>50%</th>\n",
              "      <td>68.000000</td>\n",
              "    </tr>\n",
              "    <tr>\n",
              "      <th>75%</th>\n",
              "      <td>87.000000</td>\n",
              "    </tr>\n",
              "    <tr>\n",
              "      <th>max</th>\n",
              "      <td>87.000000</td>\n",
              "    </tr>\n",
              "  </tbody>\n",
              "</table>\n",
              "</div>"
            ],
            "text/plain": [
              "       Date_STD_BP\n",
              "count    29.000000\n",
              "mean     71.000000\n",
              "std      17.784423\n",
              "min      29.000000\n",
              "25%      67.000000\n",
              "50%      68.000000\n",
              "75%      87.000000\n",
              "max      87.000000"
            ]
          },
          "execution_count": 28,
          "metadata": {},
          "output_type": "execute_result"
        }
      ],
      "source": [
        "# Rename the long column name for simplicity\n",
        "matching_samples.rename(columns={\n",
        "    'Date standard deviation in BP [OxCal sigma for a direct radiocarbon date, and standard deviation of the uniform distribution between the two bounds for a contextual date]': 'Date_STD_BP'\n",
        "}, inplace=True)\n",
        "\n",
        "# Now describe the data\n",
        "matching_samples[['Date_STD_BP']].describe()\n"
      ]
    },
    {
      "cell_type": "code",
      "execution_count": 29,
      "metadata": {},
      "outputs": [],
      "source": [
        "# Define the file path\n",
        "Q = r'mergev.8.Q'\n",
        "\n",
        "# Define the column names\n",
        "column_names = ['AncientComponent1', 'AncientComponent2', 'AncientComponent3', \n",
        "                'AncientComponent4', 'AncientComponent5', 'ModernComponent1',\n",
        "                'ModernComponent2', 'ModernComponent3']\n",
        "\n",
        "# Read the data from the file\n",
        "vikings_cmps = pd.read_csv(Q, sep=' ', names=column_names)\n",
        "\n",
        "# Exclude the first 120 \"zombie\" rows\n",
        "vikings_cmps = vikings_cmps.iloc[120:] \n",
        "\n",
        "# Reset the index of the DataFrame\n",
        "vikings_cmps = vikings_cmps.reset_index(drop=True)\n",
        "\n",
        "# Extract subset from viking_df and reset its index\n",
        "subset_viking_df = viking_df[['Sample', 'Mean date (BP)']].reset_index(drop=True)\n",
        "\n",
        "# Concatenate vikings_cmps and subset_viking_df along the columns\n",
        "vikings = pd.concat([vikings_cmps, subset_viking_df], axis=1)\n",
        "\n",
        "# Rename the column for clarity\n",
        "vikings.rename(columns={'Sample': 'Sample ID'}, inplace=True)\n",
        "\n"
      ]
    },
    {
      "cell_type": "markdown",
      "metadata": {
        "id": "npTlJOMtWUXe"
      },
      "source": [
        "## **Data Exploration (Initial Data Analysis)** ##"
      ]
    },
    {
      "cell_type": "code",
      "execution_count": 30,
      "metadata": {
        "id": "hA70RMGbWCa0"
      },
      "outputs": [
        {
          "name": "stdout",
          "output_type": "stream",
          "text": [
            "<class 'pandas.core.frame.DataFrame'>\n",
            "RangeIndex: 4158 entries, 0 to 4157\n",
            "Data columns (total 13 columns):\n",
            " #   Column             Non-Null Count  Dtype  \n",
            "---  ------             --------------  -----  \n",
            " 0   AncientComponent1  4158 non-null   float64\n",
            " 1   AncientComponent2  4158 non-null   float64\n",
            " 2   AncientComponent3  4158 non-null   float64\n",
            " 3   AncientComponent4  4158 non-null   float64\n",
            " 4   AncientComponent5  4158 non-null   float64\n",
            " 5   ModernComponent1   4158 non-null   float64\n",
            " 6   ModernComponent2   4158 non-null   float64\n",
            " 7   ModernComponent3   4158 non-null   float64\n",
            " 8   Mean date (BP)     4158 non-null   int64  \n",
            " 9   Dating             4158 non-null   object \n",
            " 10  Sample ID          4158 non-null   object \n",
            " 11  Country            4158 non-null   object \n",
            " 12  STD                4158 non-null   int64  \n",
            "dtypes: float64(8), int64(2), object(3)\n",
            "memory usage: 422.4+ KB\n",
            "None\n"
          ]
        },
        {
          "data": {
            "text/html": [
              "<div>\n",
              "<style scoped>\n",
              "    .dataframe tbody tr th:only-of-type {\n",
              "        vertical-align: middle;\n",
              "    }\n",
              "\n",
              "    .dataframe tbody tr th {\n",
              "        vertical-align: top;\n",
              "    }\n",
              "\n",
              "    .dataframe thead th {\n",
              "        text-align: right;\n",
              "    }\n",
              "</style>\n",
              "<table border=\"1\" class=\"dataframe\">\n",
              "  <thead>\n",
              "    <tr style=\"text-align: right;\">\n",
              "      <th></th>\n",
              "      <th>AncientComponent1</th>\n",
              "      <th>AncientComponent2</th>\n",
              "      <th>AncientComponent3</th>\n",
              "      <th>AncientComponent4</th>\n",
              "      <th>AncientComponent5</th>\n",
              "      <th>ModernComponent1</th>\n",
              "      <th>ModernComponent2</th>\n",
              "      <th>ModernComponent3</th>\n",
              "      <th>Mean date (BP)</th>\n",
              "      <th>Dating</th>\n",
              "      <th>Sample ID</th>\n",
              "      <th>Country</th>\n",
              "      <th>STD</th>\n",
              "    </tr>\n",
              "  </thead>\n",
              "  <tbody>\n",
              "    <tr>\n",
              "      <th>0</th>\n",
              "      <td>0.000011</td>\n",
              "      <td>0.000010</td>\n",
              "      <td>0.999929</td>\n",
              "      <td>0.000010</td>\n",
              "      <td>0.00001</td>\n",
              "      <td>0.000010</td>\n",
              "      <td>0.00001</td>\n",
              "      <td>0.000010</td>\n",
              "      <td>5162</td>\n",
              "      <td>Direct: IntCal20</td>\n",
              "      <td>I1658</td>\n",
              "      <td>Armenia</td>\n",
              "      <td>80</td>\n",
              "    </tr>\n",
              "    <tr>\n",
              "      <th>1</th>\n",
              "      <td>0.243402</td>\n",
              "      <td>0.025254</td>\n",
              "      <td>0.009610</td>\n",
              "      <td>0.136992</td>\n",
              "      <td>0.00001</td>\n",
              "      <td>0.009278</td>\n",
              "      <td>0.56163</td>\n",
              "      <td>0.013823</td>\n",
              "      <td>5166</td>\n",
              "      <td>Direct: IntCal20</td>\n",
              "      <td>1H07.SG</td>\n",
              "      <td>France</td>\n",
              "      <td>79</td>\n",
              "    </tr>\n",
              "    <tr>\n",
              "      <th>2</th>\n",
              "      <td>0.255344</td>\n",
              "      <td>0.017537</td>\n",
              "      <td>0.000010</td>\n",
              "      <td>0.095890</td>\n",
              "      <td>0.00001</td>\n",
              "      <td>0.011373</td>\n",
              "      <td>0.60052</td>\n",
              "      <td>0.019316</td>\n",
              "      <td>4950</td>\n",
              "      <td>Direct: IntCal20</td>\n",
              "      <td>1H13.SG</td>\n",
              "      <td>France</td>\n",
              "      <td>53</td>\n",
              "    </tr>\n",
              "  </tbody>\n",
              "</table>\n",
              "</div>"
            ],
            "text/plain": [
              "   AncientComponent1  AncientComponent2  AncientComponent3  AncientComponent4  \\\n",
              "0           0.000011           0.000010           0.999929           0.000010   \n",
              "1           0.243402           0.025254           0.009610           0.136992   \n",
              "2           0.255344           0.017537           0.000010           0.095890   \n",
              "\n",
              "   AncientComponent5  ModernComponent1  ModernComponent2  ModernComponent3  \\\n",
              "0            0.00001          0.000010           0.00001          0.000010   \n",
              "1            0.00001          0.009278           0.56163          0.013823   \n",
              "2            0.00001          0.011373           0.60052          0.019316   \n",
              "\n",
              "   Mean date (BP)            Dating Sample ID  Country  STD  \n",
              "0            5162  Direct: IntCal20     I1658  Armenia   80  \n",
              "1            5166  Direct: IntCal20   1H07.SG   France   79  \n",
              "2            4950  Direct: IntCal20   1H13.SG   France   53  "
            ]
          },
          "metadata": {},
          "output_type": "display_data"
        },
        {
          "name": "stdout",
          "output_type": "stream",
          "text": [
            "<class 'pandas.core.frame.DataFrame'>\n",
            "RangeIndex: 1307 entries, 0 to 1306\n",
            "Data columns (total 13 columns):\n",
            " #   Column             Non-Null Count  Dtype  \n",
            "---  ------             --------------  -----  \n",
            " 0   AncientComponent1  1307 non-null   float64\n",
            " 1   AncientComponent2  1307 non-null   float64\n",
            " 2   AncientComponent3  1307 non-null   float64\n",
            " 3   AncientComponent4  1307 non-null   float64\n",
            " 4   AncientComponent5  1307 non-null   float64\n",
            " 5   ModernComponent1   1307 non-null   float64\n",
            " 6   ModernComponent2   1307 non-null   float64\n",
            " 7   ModernComponent3   1307 non-null   float64\n",
            " 8   Mean date (BP)     1307 non-null   int64  \n",
            " 9   Dating             0 non-null      float64\n",
            " 10  Sample ID          1307 non-null   object \n",
            " 11  Country            1307 non-null   object \n",
            " 12  STD                1307 non-null   int64  \n",
            "dtypes: float64(9), int64(2), object(2)\n",
            "memory usage: 132.9+ KB\n",
            "None\n"
          ]
        },
        {
          "data": {
            "text/html": [
              "<div>\n",
              "<style scoped>\n",
              "    .dataframe tbody tr th:only-of-type {\n",
              "        vertical-align: middle;\n",
              "    }\n",
              "\n",
              "    .dataframe tbody tr th {\n",
              "        vertical-align: top;\n",
              "    }\n",
              "\n",
              "    .dataframe thead th {\n",
              "        text-align: right;\n",
              "    }\n",
              "</style>\n",
              "<table border=\"1\" class=\"dataframe\">\n",
              "  <thead>\n",
              "    <tr style=\"text-align: right;\">\n",
              "      <th></th>\n",
              "      <th>AncientComponent1</th>\n",
              "      <th>AncientComponent2</th>\n",
              "      <th>AncientComponent3</th>\n",
              "      <th>AncientComponent4</th>\n",
              "      <th>AncientComponent5</th>\n",
              "      <th>ModernComponent1</th>\n",
              "      <th>ModernComponent2</th>\n",
              "      <th>ModernComponent3</th>\n",
              "      <th>Mean date (BP)</th>\n",
              "      <th>Dating</th>\n",
              "      <th>Sample ID</th>\n",
              "      <th>Country</th>\n",
              "      <th>STD</th>\n",
              "    </tr>\n",
              "  </thead>\n",
              "  <tbody>\n",
              "    <tr>\n",
              "      <th>0</th>\n",
              "      <td>0.066929</td>\n",
              "      <td>0.040100</td>\n",
              "      <td>0.003131</td>\n",
              "      <td>0.035866</td>\n",
              "      <td>0.014960</td>\n",
              "      <td>0.001272</td>\n",
              "      <td>0.822988</td>\n",
              "      <td>0.014754</td>\n",
              "      <td>10</td>\n",
              "      <td>NaN</td>\n",
              "      <td>HG00096</td>\n",
              "      <td>GBR</td>\n",
              "      <td>0</td>\n",
              "    </tr>\n",
              "    <tr>\n",
              "      <th>1</th>\n",
              "      <td>0.073446</td>\n",
              "      <td>0.047749</td>\n",
              "      <td>0.002356</td>\n",
              "      <td>0.030496</td>\n",
              "      <td>0.007208</td>\n",
              "      <td>0.005035</td>\n",
              "      <td>0.819372</td>\n",
              "      <td>0.014338</td>\n",
              "      <td>10</td>\n",
              "      <td>NaN</td>\n",
              "      <td>HG00097</td>\n",
              "      <td>GBR</td>\n",
              "      <td>0</td>\n",
              "    </tr>\n",
              "    <tr>\n",
              "      <th>2</th>\n",
              "      <td>0.066791</td>\n",
              "      <td>0.052471</td>\n",
              "      <td>0.000010</td>\n",
              "      <td>0.031622</td>\n",
              "      <td>0.013156</td>\n",
              "      <td>0.003371</td>\n",
              "      <td>0.826157</td>\n",
              "      <td>0.006421</td>\n",
              "      <td>10</td>\n",
              "      <td>NaN</td>\n",
              "      <td>HG00099</td>\n",
              "      <td>GBR</td>\n",
              "      <td>0</td>\n",
              "    </tr>\n",
              "  </tbody>\n",
              "</table>\n",
              "</div>"
            ],
            "text/plain": [
              "   AncientComponent1  AncientComponent2  AncientComponent3  AncientComponent4  \\\n",
              "0           0.066929           0.040100           0.003131           0.035866   \n",
              "1           0.073446           0.047749           0.002356           0.030496   \n",
              "2           0.066791           0.052471           0.000010           0.031622   \n",
              "\n",
              "   AncientComponent5  ModernComponent1  ModernComponent2  ModernComponent3  \\\n",
              "0           0.014960          0.001272          0.822988          0.014754   \n",
              "1           0.007208          0.005035          0.819372          0.014338   \n",
              "2           0.013156          0.003371          0.826157          0.006421   \n",
              "\n",
              "   Mean date (BP)  Dating Sample ID Country  STD  \n",
              "0              10     NaN   HG00096     GBR    0  \n",
              "1              10     NaN   HG00097     GBR    0  \n",
              "2              10     NaN   HG00099     GBR    0  "
            ]
          },
          "metadata": {},
          "output_type": "display_data"
        }
      ],
      "source": [
        "print(Ancients.info())\n",
        "display(Ancients.head(3))\n",
        "print(Moderns.info())\n",
        "display(Moderns.head(3))"
      ]
    },
    {
      "cell_type": "code",
      "execution_count": 31,
      "metadata": {
        "id": "-BfIbM4by2L6"
      },
      "outputs": [
        {
          "data": {
            "text/plain": [
              "((array([-3.58788103, -3.34962434, -3.21815727, ...,  3.21815727,\n",
              "          3.34962434,  3.58788103]),\n",
              "  array([  90,  124,  126, ..., 9933, 9952, 9992], dtype=int64)),\n",
              " (1952.5463041633557, 3925.416305916306, 0.9865907741315157))"
            ]
          },
          "execution_count": 31,
          "metadata": {},
          "output_type": "execute_result"
        },
        {
          "data": {
            "image/png": "[encoded data removed]",
            "text/plain": [
              "<Figure size 640x480 with 1 Axes>"
            ]
          },
          "metadata": {},
          "output_type": "display_data"
        },
        {
          "data": {
            "image/png": "[encoded data removed]",
            "text/plain": [
              "<Figure size 640x480 with 1 Axes>"
            ]
          },
          "metadata": {},
          "output_type": "display_data"
        }
      ],
      "source": [
        "sns.distplot(Ancients['Mean date (BP)'], fit = norm) # A frequency distribution plot and the maximum likelihood Gaussian distribution fit\n",
        "fig = plt.figure()\n",
        "stats.probplot(Ancients['Mean date (BP)'], plot=plt) # It generates a probability plot of sample data against the quantiles of a specified theoretical distribution (the normal distribution by default)."
      ]
    },
    {
      "cell_type": "markdown",
      "metadata": {
        "id": "AxSwdV_DFB0d"
      },
      "source": [
        "## **Clean the Data**"
      ]
    },
    {
      "cell_type": "code",
      "execution_count": 32,
      "metadata": {},
      "outputs": [],
      "source": [
        "def outlier_by_zscore(df:pd.DataFrame, column, outliers):\n",
        "    df['is_outlier'] = zscore(df[column])\n",
        "    is_outlier = df['is_outlier'].apply(lambda x: x <= -3 or x >= 3)\n",
        "    df.drop('is_outlier',axis=1,inplace=True)\n",
        "    return df[~is_outlier], pd.concat([outliers, df[is_outlier]])\n",
        "\n",
        "def preprocess(df:pd.DataFrame, outliers):\n",
        "    df, outliers = outlier_by_zscore(df,'Mean date (BP)', outliers)\n",
        "    df, outliers = outlier_by_zscore(df,'AncientComponent1', outliers)  \n",
        "    df, outliers = outlier_by_zscore(df,'AncientComponent2', outliers)\n",
        "    df, outliers = outlier_by_zscore(df,'AncientComponent3', outliers) \n",
        "    df, outliers = outlier_by_zscore(df,'AncientComponent4', outliers)\n",
        "    df, outliers = outlier_by_zscore(df,'AncientComponent5', outliers)\n",
        "    df, outliers = outlier_by_zscore(df,'ModernComponent1', outliers)\n",
        "    df, outliers = outlier_by_zscore(df,'ModernComponent2', outliers)\n",
        "    df, outliers = outlier_by_zscore(df,'ModernComponent3', outliers)\n",
        "\n",
        "    outliers11 = df[df.STD >= 400]\n",
        "    outliers = pd.concat([outliers, outliers11])\n",
        "    df = df[df.STD < 400]\n",
        "    return df, outliers\n",
        "\n",
        "outliers:pd.DataFrame = pd.DataFrame()\n",
        "Ancients, outliers = preprocess(Ancients, outliers)\n"
      ]
    },
    {
      "cell_type": "markdown",
      "metadata": {
        "id": "PYyRpF0haVXT"
      },
      "source": [
        "## **Check for Missing Values** "
      ]
    },
    {
      "cell_type": "code",
      "execution_count": 33,
      "metadata": {
        "id": "ZDNN1MgKaXJ6"
      },
      "outputs": [
        {
          "name": "stdout",
          "output_type": "stream",
          "text": [
            "AncientComponent1    0\n",
            "AncientComponent2    0\n",
            "AncientComponent3    0\n",
            "AncientComponent4    0\n",
            "AncientComponent5    0\n",
            "ModernComponent1     0\n",
            "ModernComponent2     0\n",
            "ModernComponent3     0\n",
            "Mean date (BP)       0\n",
            "Dating               0\n",
            "Sample ID            0\n",
            "Country              0\n",
            "STD                  0\n",
            "dtype: int64\n",
            "AncientComponent1       0\n",
            "AncientComponent2       0\n",
            "AncientComponent3       0\n",
            "AncientComponent4       0\n",
            "AncientComponent5       0\n",
            "ModernComponent1        0\n",
            "ModernComponent2        0\n",
            "ModernComponent3        0\n",
            "Mean date (BP)          0\n",
            "Dating               1307\n",
            "Sample ID               0\n",
            "Country                 0\n",
            "STD                     0\n",
            "dtype: int64\n"
          ]
        }
      ],
      "source": [
        "print(Ancients.isnull().sum()) # No missing values are found\n",
        "print(Moderns.isnull().sum()) # No missing values are found, Their Datings are intentionally left blank."
      ]
    },
    {
      "cell_type": "markdown",
      "metadata": {
        "id": "Wqy87DHLbBbt"
      },
      "source": [
        "## **Feature Engineering**"
      ]
    },
    {
      "cell_type": "code",
      "execution_count": 34,
      "metadata": {},
      "outputs": [],
      "source": [
        "# List of column names for calculation\n",
        "ancient_columns = ['AncientComponent1', 'AncientComponent2', 'AncientComponent3',\n",
        "                   'AncientComponent4', 'AncientComponent5']\n",
        "\n",
        "# Calculate mean for ancient columns for 'Ancients' DataFrame\n",
        "Ancients['mean_Ancient_columns'] = Ancients[ancient_columns].mean(axis=1)\n",
        "\n",
        "# Compute the mean of 'AncientComponent1' for 'Ancients' DataFrame\n",
        "AncientComponent1_mean = Ancients['AncientComponent1'].mean()\n",
        "\n",
        "# Calculate the absolute difference from mean for 'AncientComponent1' and update it\n",
        "Ancients['AncientComponent1_diff_mean'] = abs(Ancients['AncientComponent1'] - AncientComponent1_mean)\n",
        "Ancients['AncientComponent1'] += 3 * Ancients['AncientComponent1_diff_mean']\n",
        "\n",
        "# Repeat the process for 'Moderns' DataFrame\n",
        "Moderns['mean_Ancient_columns'] = Moderns[ancient_columns].mean(axis=1)\n",
        "Moderns['AncientComponent1_diff_mean'] = abs(Moderns['AncientComponent1'] - AncientComponent1_mean)\n",
        "Moderns['AncientComponent1'] += 3 * Moderns['AncientComponent1_diff_mean']\n",
        "\n",
        "# Repeat the process for 'vikings' DataFrame\n",
        "vikings['mean_Ancient_columns'] = vikings[ancient_columns].mean(axis=1)\n",
        "\n",
        "# Compute the mean of 'AncientComponent1' for 'vikings' DataFrame\n",
        "AncientComponent1_mean = vikings['AncientComponent1'].mean()\n",
        "\n",
        "vikings['AncientComponent1_diff_mean'] = abs(vikings['AncientComponent1'] - AncientComponent1_mean)\n",
        "vikings['AncientComponent1'] += 3 * vikings['AncientComponent1_diff_mean']\n"
      ]
    },
    {
      "cell_type": "markdown",
      "metadata": {
        "id": "Sim7UXYXsUZ5"
      },
      "source": [
        "## **Split the Data**\n",
        "\n",
        " ## **Train_set, Test_set (unseen)**"
      ]
    },
    {
      "cell_type": "code",
      "execution_count": 35,
      "metadata": {},
      "outputs": [],
      "source": [
        "# Read the excel file\n",
        "test_published = pd.read_excel('test_published.xlsx')\n",
        "\n",
        "# Concatenate the Moderns and Ancients datasets\n",
        "merged_df = pd.concat([Moderns, Ancients], ignore_index=True)\n",
        "\n",
        "# Get the Sample IDs from test_published\n",
        "test_published_ids = test_published['Sample ID']\n",
        "\n",
        "# Create the test set by filtering rows in the merged dataframe where Sample ID exists in test_published\n",
        "test_set = merged_df[merged_df['Sample ID'].isin(test_published_ids)]\n",
        "\n",
        "# Create the train set by filtering rows in the merged dataframe where Sample ID does NOT exist in test_published\n",
        "train_set = merged_df[~merged_df['Sample ID'].isin(test_published_ids)]\n"
      ]
    },
    {
      "cell_type": "code",
      "execution_count": 36,
      "metadata": {},
      "outputs": [
        {
          "name": "stdout",
          "output_type": "stream",
          "text": [
            "Data for Modeling: (4187, 11)\n",
            "Unseen Data For Predictions: (740, 11)\n"
          ]
        }
      ],
      "source": [
        "# Remove 'Dating', 'Country', and 'STD' columns from train_set\n",
        "train_set = train_set[train_set.columns.difference(['Dating', 'Country', 'STD'])]\n",
        "\n",
        "# Append 'vikings' DataFrame to 'train_set'\n",
        "train_set = pd.concat([train_set, vikings])\n",
        "\n",
        "# Copy the 'train_set' DataFrame to 'train_set1'\n",
        "train_set1 = train_set.copy()\n",
        "\n",
        "# Remove 'Sample ID' column from 'train_set'\n",
        "train_set = train_set[train_set.columns.difference(['Sample ID'])]\n",
        "\n",
        "# Copy 'test_set' DataFrame to 'test_set1'\n",
        "test_set1 = test_set.copy()\n",
        "\n",
        "# Remove 'Sample ID', 'Dating', 'Country', and 'STD' columns from 'test_set'\n",
        "test_set = test_set[test_set.columns.difference(['Sample ID', 'Dating', 'Country', 'STD'])]\n",
        "\n",
        "# Define features (X) and target (y) for training data\n",
        "X_train = train_set[train_set.columns.difference(['Mean date (BP)'])]\n",
        "y_train = train_set['Mean date (BP)']\n",
        "\n",
        "# Define features (X) and target (y) for test data\n",
        "X_test = test_set[test_set.columns.difference(['Mean date (BP)'])]\n",
        "y_test = test_set['Mean date (BP)']\n",
        "\n",
        "# Print the shape of the train_set and test_set\n",
        "print('Data for Modeling: ' + str(train_set.shape))\n",
        "print('Unseen Data For Predictions: ' + str(test_set.shape))\n"
      ]
    },
    {
      "cell_type": "markdown",
      "metadata": {
        "id": "tEcty25_emNA"
      },
      "source": [
        " ## **Train the Model**"
      ]
    },
    {
      "cell_type": "code",
      "execution_count": 37,
      "metadata": {},
      "outputs": [
        {
          "name": "stdout",
          "output_type": "stream",
          "text": [
            "The best median absolute error is:  189.62495154553017\n",
            "The best random state is:  32\n"
          ]
        }
      ],
      "source": [
        "from sklearn.metrics import median_absolute_error\n",
        "from sklearn.model_selection import KFold\n",
        "from sklearn.ensemble import RandomForestRegressor\n",
        "from sklearn.utils import shuffle\n",
        "\n",
        "def cross_validation(df, target, k=10):\n",
        "    # Preparing Data\n",
        "    X = df.drop(target,axis=1).values\n",
        "    y = df[target].values\n",
        "    X, y = shuffle(X, y, random_state=42)  # Shuffle data\n",
        "\n",
        "    # Initializing variables\n",
        "    best_MedAE = float('inf')  # Starting with a large number\n",
        "    best_model = None\n",
        "    best_train_data = None\n",
        "    best_val_data = None\n",
        "    best_random_state = None\n",
        "\n",
        "    # Cross Validation Process\n",
        "    for random_state in [32]:  # Using a specific seed\n",
        "        kf = KFold(n_splits=k, shuffle=False)\n",
        "        rf_reg = RandomForestRegressor(max_depth=20, random_state=random_state)\n",
        "\n",
        "        for train_index, val_index in kf.split(X):\n",
        "            # Splitting data into train and validation sets\n",
        "            X_train, X_val = X[train_index], X[val_index]\n",
        "            y_train, y_val = y[train_index], y[val_index]\n",
        "\n",
        "            # Training model and making prediction\n",
        "            rf_reg.fit(X_train, y_train)\n",
        "            y_val_pred = rf_reg.predict(X_val)\n",
        "\n",
        "            # Calculating error\n",
        "            this_k_MedAE = median_absolute_error(y_val, y_val_pred)\n",
        "\n",
        "            # Checking and updating best results\n",
        "            if this_k_MedAE < best_MedAE:\n",
        "                best_MedAE = this_k_MedAE\n",
        "                best_model = rf_reg\n",
        "                best_train_data = (X_train, y_train)\n",
        "                best_val_data = (X_val, y_val)\n",
        "                best_random_state = random_state\n",
        "\n",
        "    return best_model, best_MedAE, best_train_data, best_val_data, best_random_state\n",
        "\n",
        "# Running cross validation\n",
        "best_model, best_MedAE, best_train_data, best_val_data, best_random_state = cross_validation(df=train_set, target='Mean date (BP)', k=10)\n",
        "\n",
        "# Assigning best data for future use\n",
        "X_train_best, y_train_best = best_train_data\n",
        "X_val_best, y_val_best = best_val_data\n",
        "\n",
        "# Displaying results\n",
        "print(\"The best median absolute error is: \", best_MedAE)\n",
        "print(\"The best random state is: \", best_random_state)\n"
      ]
    },
    {
      "cell_type": "markdown",
      "metadata": {
        "id": "B0hUGwusXlqX"
      },
      "source": [
        " ## **Prediction**"
      ]
    },
    {
      "cell_type": "code",
      "execution_count": 38,
      "metadata": {
        "id": "pYJXyCPeqGGz"
      },
      "outputs": [],
      "source": [
        "# Use the best model to make predictions\n",
        "loaded_model = best_model\n",
        "\n",
        "# Create a copy of the test set\n",
        "test_predictions = X_test.copy()\n",
        "\n",
        "# Append the actual dates to the test predictions dataframe\n",
        "test_predictions['Mean date (BP)'] = y_test.astype('float')\n",
        "\n",
        "# Generate predictions using the model and append them to the dataframe\n",
        "test_predictions['TPS predicted date (BP)'] = loaded_model.predict(X_test).round()\n",
        "\n",
        "# Combine additional information from the original test set\n",
        "test_predictions = pd.concat([test_set1[['Sample ID', 'Country', 'Dating']], test_predictions], axis=1)\n",
        "\n",
        "# Calculate the absolute difference between the predicted and actual dates\n",
        "test_predictions[\"difference\"] = abs(test_predictions['TPS predicted date (BP)'] - test_predictions['Mean date (BP)'])\n",
        "\n",
        "test_predictions.to_excel(\"test_VikingsWereInTrain.xlsx\")"
      ]
    },
    {
      "cell_type": "markdown",
      "metadata": {
        "id": "f75vWbJJXsx-"
      },
      "source": [
        "## **Evaluation**"
      ]
    },
    {
      "cell_type": "code",
      "execution_count": 39,
      "metadata": {
        "colab": {
          "base_uri": "https://localhost:8080/"
        },
        "id": "LWKnUDJyFyo2",
        "outputId": "ebffbffa-e893-4840-a828-d33cbf46e259"
      },
      "outputs": [
        {
          "name": "stdout",
          "output_type": "stream",
          "text": [
            "Test set evaluation:\n",
            "_____________________________________\n",
            "MAE: 494.11925036378386\n",
            "MSE: 675261.6847457999\n",
            "RMSE: 821.7430770902788\n",
            "R2 Square 0.8690011481395894\n",
            "__________________________________\n",
            "Train set evaluation:\n",
            "_____________________________________\n",
            "MAE: 227.51788291384835\n",
            "MSE: 160362.2038546374\n",
            "RMSE: 400.45249887425774\n",
            "R2 Square 0.969138470443341\n",
            "__________________________________\n"
          ]
        }
      ],
      "source": [
        "def evaluate(y, yhat, model, X):\n",
        "    mae = metrics.mean_absolute_error(y, yhat)\n",
        "    mse = metrics.mean_squared_error(y, yhat)\n",
        "    rmse = np.sqrt(metrics.mean_squared_error(y, yhat))\n",
        "    r2_square = model.score(X, y)\n",
        "    print('MAE:', mae)\n",
        "    print('MSE:', mse)\n",
        "    print('RMSE:', rmse)\n",
        "    print('R2 Square', r2_square)\n",
        "    print('__________________________________')\n",
        "\n",
        "test_pred = loaded_model.predict(X_test)\n",
        "train_pred = loaded_model.predict(X_train)\n",
        "\n",
        "print('Test set evaluation:\\n_____________________________________')\n",
        "evaluate(y_test, test_pred, loaded_model, X_test)\n",
        "\n",
        "print('Train set evaluation:\\n_____________________________________')\n",
        "evaluate(y_train, train_pred, loaded_model, X_train)    "
      ]
    },
    {
      "cell_type": "code",
      "execution_count": 40,
      "metadata": {},
      "outputs": [
        {
          "data": {
            "text/plain": [
              "count     740.000000\n",
              "mean      494.122973\n",
              "std       657.038525\n",
              "min         0.000000\n",
              "25%        34.000000\n",
              "50%       250.500000\n",
              "75%       688.500000\n",
              "max      4565.000000\n",
              "Name: difference, dtype: float64"
            ]
          },
          "execution_count": 40,
          "metadata": {},
          "output_type": "execute_result"
        }
      ],
      "source": [
        "test_predictions['difference'].describe()"
      ]
    },
    {
      "cell_type": "code",
      "execution_count": 41,
      "metadata": {},
      "outputs": [
        {
          "data": {
            "text/plain": [
              "count      58.000000\n",
              "mean      391.344828\n",
              "std       531.823297\n",
              "min        13.000000\n",
              "25%        70.500000\n",
              "50%       142.000000\n",
              "75%       486.000000\n",
              "max      2338.000000\n",
              "Name: difference, dtype: float64"
            ]
          },
          "execution_count": 41,
          "metadata": {},
          "output_type": "execute_result"
        }
      ],
      "source": [
        "# Create a new dataframe by selecting rows in test_predictions where 'Sample ID' starts with \"VK\" or \"vik\" (Vikings)\n",
        "df_VK_vik = test_predictions[test_predictions['Sample ID'].str.startswith((\"VK\", \"vik\"))]\n",
        "\n",
        "# Display summary statistics of the 'difference' column in the new dataframe\n",
        "df_VK_vik['difference'].describe()\n"
      ]
    }
  ],
  "metadata": {
    "colab": {
      "collapsed_sections": [],
      "name": "GitHub.ipynb",
      "provenance": []
    },
    "interpreter": {
      "hash": "422a3a0a1c72d3852199221c5e28a2cf25f305bbd7d8807f97f3ff98cb2c5f85"
    },
    "kernelspec": {
      "display_name": "Python 3.8.10 64-bit",
      "language": "python",
      "name": "python3"
    },
    "language_info": {
      "codemirror_mode": {
        "name": "ipython",
        "version": 3
      },
      "file_extension": ".py",
      "mimetype": "text/x-python",
      "name": "python",
      "nbconvert_exporter": "python",
      "pygments_lexer": "ipython3",
      "version": "3.11.0"
    }
  },
  "nbformat": 4,
  "nbformat_minor": 0
}
